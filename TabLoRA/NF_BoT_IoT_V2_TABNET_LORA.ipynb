{
  "nbformat": 4,
  "nbformat_minor": 0,
  "metadata": {
    "colab": {
      "provenance": []
    },
    "kernelspec": {
      "name": "python3",
      "display_name": "Python 3"
    },
    "language_info": {
      "name": "python"
    }
  },
  "cells": [
    {
      "cell_type": "code",
      "execution_count": 1,
      "metadata": {
        "id": "FlcM0yjzG64q"
      },
      "outputs": [],
      "source": [
        "import numpy as np\n",
        "import pandas as pd\n",
        "import pyarrow.parquet as pq\n",
        "from fastai.tabular.all import df_shrink\n",
        "import pandas as pd\n",
        "import numpy as np\n",
        "from sklearn.feature_selection import SelectKBest, chi2, f_classif\n",
        "from sklearn.preprocessing import StandardScaler\n",
        "from scipy.stats import pearsonr\n",
        "from sklearn.preprocessing import MinMaxScaler\n",
        "from sklearn.feature_selection import RFE\n",
        "from sklearn.ensemble import RandomForestClassifier"
      ]
    },
    {
      "cell_type": "code",
      "source": [
        "suggested_dtypes = {\n",
        "'IPV4_SRC_ADDR': 'object',\n",
        "'L4_SRC_PORT': np.int16,\n",
        "'IPV4_DST_ADDR': 'object',\n",
        "'L4_DST_PORT': np.int16,\n",
        "'PROTOCOL': np.int16,\n",
        "'L7_PROTO': np.float32,\n",
        "'IN_BYTES': np.int64,\n",
        "'IN_PKTS': np.int32,\n",
        "'OUT_BYTES': np.int64,\n",
        "'OUT_PKTS': np.int32,\n",
        "'TCP_FLAGS': np.int16,\n",
        "'CLIENT_TCP_FLAGS': np.int16,\n",
        "'SERVER_TCP_FLAGS': np.int16,\n",
        "'FLOW_DURATION_MILLISECONDS': np.int64,\n",
        "'DURATION_IN': np.int64,\n",
        "'DURATION_OUT': np.int64,\n",
        "'MIN_TTL': np.int16,\n",
        "'MAX_TTL': np.int16,\n",
        "'LONGEST_FLOW_PKT': np.int32,\n",
        "'SHORTEST_FLOW_PKT': np.int32,\n",
        "'MIN_IP_PKT_LEN': np.int32,\n",
        "'MAX_IP_PKT_LEN': np.int32,\n",
        "'SRC_TO_DST_SECOND_BYTES': np.float32,\n",
        "'DST_TO_SRC_SECOND_BYTES': np.float32,\n",
        "'RETRANSMITTED_IN_BYTES': np.int32,\n",
        "'RETRANSMITTED_IN_PKTS': np.int32,\n",
        "'RETRANSMITTED_OUT_BYTES': np.int32,\n",
        "'RETRANSMITTED_OUT_PKTS': np.int32,\n",
        "'SRC_TO_DST_AVG_THROUGHPUT': np.int64,\n",
        "'DST_TO_SRC_AVG_THROUGHPUT': np.int64,\n",
        "'NUM_PKTS_UP_TO_128_BYTES': np.int32,\n",
        "'NUM_PKTS_128_TO_256_BYTES': np.int32,\n",
        "'NUM_PKTS_256_TO_512_BYTES': np.int32,\n",
        "'NUM_PKTS_512_TO_1024_BYTES': np.int32,\n",
        "'NUM_PKTS_1024_TO_1514_BYTES': np.int32,\n",
        "'TCP_WIN_MAX_IN': np.int32,\n",
        "'TCP_WIN_MAX_OUT': np.int32,\n",
        "'ICMP_TYPE': np.int32,\n",
        "'ICMP_IPV4_TYPE': np.int32,\n",
        "'DNS_QUERY_ID': np.int32,\n",
        "'DNS_QUERY_TYPE': np.int32,\n",
        "'DNS_TTL_ANSWER': np.int32,\n",
        "'FTP_COMMAND_RET_CODE': np.float32,\n",
        "'Label': np.int32,\n",
        "'Attack': 'object'}"
      ],
      "metadata": {
        "id": "LMjT_dziM11m"
      },
      "execution_count": 2,
      "outputs": []
    },
    {
      "cell_type": "code",
      "source": [
        "path = \"/content/drive/MyDrive/NF-BoT-IoT-V2/NF-BoT-IoT-V2.parquet\"\n",
        "df = pq.read_table(path).to_pandas()\n",
        "\n",
        "\n"
      ],
      "metadata": {
        "id": "YEzLq69kNSGa"
      },
      "execution_count": 3,
      "outputs": []
    },
    {
      "cell_type": "code",
      "source": [
        "df.shape"
      ],
      "metadata": {
        "colab": {
          "base_uri": "https://localhost:8080/"
        },
        "id": "SuwaVyh9QtPW",
        "outputId": "5f749c2c-8da9-4d03-81b7-cb46826a6d38"
      },
      "execution_count": 4,
      "outputs": [
        {
          "output_type": "execute_result",
          "data": {
            "text/plain": [
              "(30420086, 43)"
            ]
          },
          "metadata": {},
          "execution_count": 4
        }
      ]
    },
    {
      "cell_type": "code",
      "source": [
        "fraction = 0.05\n",
        "\n",
        "sampled_df = df.sample(frac=fraction, random_state=42)\n",
        "sampled_df.to_csv('/content/drive/MyDrive/NF-BoT-IoT-V2/sampled_bot_iot.csv', index=False)"
      ],
      "metadata": {
        "id": "zMcOMS15OnOO"
      },
      "execution_count": 5,
      "outputs": []
    },
    {
      "cell_type": "code",
      "source": [
        "sampled_df.shape"
      ],
      "metadata": {
        "id": "auu5UwkzOxD6"
      },
      "execution_count": null,
      "outputs": []
    },
    {
      "cell_type": "code",
      "source": [
        "sampled_df.head()"
      ],
      "metadata": {
        "id": "keQglif2RyD1"
      },
      "execution_count": null,
      "outputs": []
    },
    {
      "cell_type": "code",
      "source": [
        "list_drop = ['Attack']\n",
        "# sampled_df = df.copy()\n",
        "sampled_df.drop(list_drop,axis=1,inplace=True)"
      ],
      "metadata": {
        "id": "TS2VWEy1OCtw"
      },
      "execution_count": 8,
      "outputs": []
    },
    {
      "cell_type": "code",
      "source": [
        "sampled_df.head()"
      ],
      "metadata": {
        "id": "qPk9CWF5ST8w"
      },
      "execution_count": null,
      "outputs": []
    },
    {
      "cell_type": "code",
      "source": [
        "X = sampled_df.iloc[:,:-1]\n",
        "y = sampled_df.iloc[:,-1]"
      ],
      "metadata": {
        "id": "R_PnY-AjFXrG"
      },
      "execution_count": 10,
      "outputs": []
    },
    {
      "cell_type": "code",
      "source": [
        "def select_top_k_pearson(X, y, k=20):\n",
        "    correlations = []\n",
        "    for col in X.columns:\n",
        "        corr, _ = pearsonr(X[col], y)\n",
        "        correlations.append(abs(corr))\n",
        "\n",
        "    top_k_indices = np.argsort(correlations)[-k:]\n",
        "    return X.columns[top_k_indices]\n",
        "\n",
        "def select_top_k_chi2(X, y, k=20):\n",
        "    scaler = MinMaxScaler()\n",
        "    X_scaled = scaler.fit_transform(X)\n",
        "    chi2_selector = SelectKBest(chi2, k=k)\n",
        "    chi2_selector.fit(X_scaled, y)\n",
        "    return X.columns[chi2_selector.get_support()]\n",
        "\n",
        "def select_top_k_anova(X, y, k=20):\n",
        "    anova_selector = SelectKBest(f_classif, k=k)\n",
        "    anova_selector.fit(X, y)\n",
        "    return X.columns[anova_selector.get_support()]\n",
        "\n",
        "def select_top_k_rfe(X, y, k=20):\n",
        "    model = RandomForestClassifier(random_state=42)\n",
        "    rfe_selector = RFE(estimator=model, n_features_to_select=k, step=1)\n",
        "    rfe_selector.fit(X, y)\n",
        "    return X.columns[rfe_selector.get_support()]\n",
        "\n",
        "top_20_pearson = select_top_k_pearson(X, y, k=20)\n",
        "top_20_chi2 = select_top_k_chi2(X, y, k=20)\n",
        "top_20_anova = select_top_k_anova(X, y, k=20)\n",
        "top_20_rfe = select_top_k_rfe(X, y, k=20)\n",
        "\n",
        "# Combine the selected features\n",
        "# selected_features = set(top_20_pearson).union(set(top_20_chi2)).union(set(top_20_anova))\n",
        "# Only pearson features\n",
        "selected_features = set(top_20_rfe)\n",
        "final_selected_features = list(selected_features)[:20]  # If you want exactly 20 features\n",
        "\n",
        "# Filter the dataset to keep only the selected features\n",
        "X_selected = X[final_selected_features]"
      ],
      "metadata": {
        "colab": {
          "base_uri": "https://localhost:8080/"
        },
        "id": "477N932xE2YM",
        "outputId": "475581fc-a17c-4d4c-e971-6e430c2733ad"
      },
      "execution_count": 11,
      "outputs": [
        {
          "output_type": "stream",
          "name": "stderr",
          "text": [
            "<ipython-input-11-de6e84870214>:4: ConstantInputWarning: An input array is constant; the correlation coefficient is not defined.\n",
            "  corr, _ = pearsonr(X[col], y)\n",
            "/usr/local/lib/python3.10/dist-packages/sklearn/feature_selection/_univariate_selection.py:112: UserWarning: Features [40] are constant.\n",
            "  warnings.warn(\"Features %s are constant.\" % constant_features_idx, UserWarning)\n",
            "/usr/local/lib/python3.10/dist-packages/sklearn/feature_selection/_univariate_selection.py:113: RuntimeWarning: invalid value encountered in divide\n",
            "  f = msb / msw\n"
          ]
        }
      ]
    },
    {
      "cell_type": "code",
      "source": [],
      "metadata": {
        "id": "YE1GYUW4OSZS"
      },
      "execution_count": 11,
      "outputs": []
    },
    {
      "cell_type": "code",
      "source": [
        "from sklearn.model_selection import train_test_split\n",
        "X_train, X_test, y_train, y_test = train_test_split(X_selected.values, y.values,\n",
        "                                                    test_size = 0.2,\n",
        "                                                    random_state = 0,\n",
        "                                                    stratify=y)"
      ],
      "metadata": {
        "id": "oGRZTA6rSwJ5"
      },
      "execution_count": 12,
      "outputs": []
    },
    {
      "cell_type": "code",
      "source": [
        "import torch\n",
        "X_train_tensor = torch.tensor(X_train, dtype=torch.float32)\n",
        "y_train_tensor = torch.tensor(y_train, dtype=torch.long)\n",
        "X_test_tensor = torch.tensor(X_test, dtype=torch.float32)\n",
        "y_test_tensor = torch.tensor(y_test, dtype=torch.long)"
      ],
      "metadata": {
        "id": "BSMn7fnbSydL"
      },
      "execution_count": 13,
      "outputs": []
    },
    {
      "cell_type": "code",
      "source": [
        "from sparsemax import Sparsemax\n",
        "import torch\n",
        "import torch.nn as nn\n",
        "import torch.nn.functional as F"
      ],
      "metadata": {
        "id": "nd6DgthZSzjp"
      },
      "execution_count": null,
      "outputs": []
    },
    {
      "cell_type": "code",
      "source": [
        "import torch\n",
        "import torch.nn as nn\n",
        "import torch.nn.functional as F\n",
        "import math\n",
        "import numpy as np\n",
        "from torch.utils.data import TensorDataset, DataLoader\n",
        "from torch.optim import Adam\n",
        "\n",
        "# GLU Block\n",
        "def glu(act, n_units):\n",
        "    return act[:, :n_units] * torch.sigmoid(act[:, n_units:])\n",
        "\n",
        "class LoRALinear(nn.Module):\n",
        "    def __init__(self, in_features, out_features, rank, alpha=1):\n",
        "        super(LoRALinear, self).__init__()\n",
        "        self.rank = rank\n",
        "        self.alpha = alpha\n",
        "\n",
        "        self.orig_weight = nn.Parameter(torch.Tensor(out_features, in_features), requires_grad=False)\n",
        "        nn.init.kaiming_uniform_(self.orig_weight, a=math.sqrt(5))\n",
        "        self.U = nn.Parameter(torch.Tensor(out_features, rank))\n",
        "        self.V = nn.Parameter(torch.Tensor(rank, in_features))\n",
        "        nn.init.kaiming_normal_(self.U)\n",
        "        nn.init.kaiming_normal_(self.V)\n",
        "\n",
        "    def forward(self, x):\n",
        "        weight = self.orig_weight + self.alpha * self.U @ self.V\n",
        "        return F.linear(x, weight)\n",
        "\n",
        "    def extra_repr(self):\n",
        "        return 'in_features={}, out_features={}, rank={}, alpha={}'.format(\n",
        "            self.orig_weight.size(1), self.orig_weight.size(0), self.rank, self.alpha\n",
        "        )\n",
        "\n",
        "class TabNetModel(nn.Module):\n",
        "    def __init__(\n",
        "        self,\n",
        "        num_features=56,\n",
        "        feature_dims=56,\n",
        "        output_dim=56,\n",
        "        num_decision_steps=6,\n",
        "        relaxation_factor=0.5,\n",
        "        batch_momentum=0.001,\n",
        "        virtual_batch_size=2,\n",
        "        num_classes=2,\n",
        "        epsilon=0.00001\n",
        "    ):\n",
        "        super().__init__()\n",
        "\n",
        "        self.num_features = num_features\n",
        "        self.feature_dims = feature_dims\n",
        "        self.output_dim = output_dim\n",
        "        self.num_decision_steps = num_decision_steps\n",
        "        self.relaxation_factor = relaxation_factor\n",
        "        self.batch_momentum = batch_momentum\n",
        "        self.virtual_batch_size = virtual_batch_size\n",
        "        self.num_classes = num_classes\n",
        "        self.epsilon = epsilon\n",
        "\n",
        "        self.feature_transform_linear1 = LoRALinear(num_features, self.feature_dims * 2, rank=16)\n",
        "        self.BN = torch.nn.BatchNorm1d(num_features, momentum=batch_momentum)\n",
        "        self.BN1 = torch.nn.BatchNorm1d(self.feature_dims * 2, momentum=batch_momentum)\n",
        "\n",
        "        self.feature_transform_linear2 = torch.nn.Linear(self.feature_dims * 2, self.feature_dims * 2, bias=False)\n",
        "        self.feature_transform_linear3 = torch.nn.Linear(self.feature_dims, self.feature_dims * 2, bias=False)\n",
        "        self.feature_transform_linear4 = torch.nn.Linear(self.feature_dims * 2, self.feature_dims * 2, bias=False)\n",
        "\n",
        "        self.mask_linear_layer = torch.nn.Linear(self.feature_dims * 2 - output_dim, self.num_features, bias=False)\n",
        "        self.BN2 = torch.nn.BatchNorm1d(self.num_features, momentum=batch_momentum)\n",
        "\n",
        "        self.final_classifier_layer = torch.nn.Linear(self.output_dim, self.num_classes, bias=False)\n",
        "        self.sparsemax = nn.Softmax(dim=1)  # Changed to\n",
        "\n",
        "    def encoder(self, data):\n",
        "        batch_size = data.shape[0]\n",
        "        features = self.BN(data)\n",
        "        output_aggregated = torch.zeros([batch_size, self.output_dim], dtype=torch.float).to(device)\n",
        "\n",
        "        masked_features = features\n",
        "        mask_values = torch.zeros([batch_size, self.num_features]).to(device)\n",
        "\n",
        "        aggregated_mask_values = torch.zeros([batch_size, self.num_features]).to(device)\n",
        "        complemantary_aggregated_mask_values = torch.ones([batch_size, self.num_features]).to(device)\n",
        "\n",
        "        total_entropy = 0\n",
        "\n",
        "        for ni in range(self.num_decision_steps):\n",
        "            if ni == 0:\n",
        "                transform_f1 = self.feature_transform_linear1(masked_features)\n",
        "                norm_transform_f1 = self.BN1(transform_f1)\n",
        "                transform_f2 = self.feature_transform_linear2(norm_transform_f1)\n",
        "                norm_transform_f2 = self.BN1(transform_f2)\n",
        "            else:\n",
        "                transform_f1 = self.feature_transform_linear1(masked_features)\n",
        "                norm_transform_f1 = self.BN1(transform_f1)\n",
        "                transform_f2 = self.feature_transform_linear2(norm_transform_f1)\n",
        "                norm_transform_f2 = self.BN1(transform_f2)\n",
        "                transform_f2 = (glu(norm_transform_f2, self.feature_dims) + transform_f1[:, :self.feature_dims]) * np.sqrt(0.5)\n",
        "                transform_f3 = self.feature_transform_linear3(transform_f2)\n",
        "                norm_transform_f3 = self.BN1(transform_f3)\n",
        "                transform_f4 = self.feature_transform_linear4(norm_transform_f3)\n",
        "                norm_transform_f4 = self.BN1(transform_f4)\n",
        "                transform_f4 = (glu(norm_transform_f4, self.feature_dims) + transform_f3[:, :self.feature_dims]) * np.sqrt(0.5)\n",
        "                decision_out = torch.nn.ReLU(inplace=True)(transform_f4[:, :self.output_dim])\n",
        "                output_aggregated = torch.add(decision_out, output_aggregated)\n",
        "                scale_agg = torch.sum(decision_out, axis=1, keepdim=True) / (self.num_decision_steps - 1)\n",
        "                aggregated_mask_values = torch.add(aggregated_mask_values, mask_values * scale_agg)\n",
        "                features_for_coef = transform_f4[:, :]\n",
        "                if ni < (self.num_decision_steps - 1):\n",
        "                    mask_linear_layer = self.mask_linear_layer(features_for_coef)\n",
        "                    mask_linear_norm = self.BN2(mask_linear_layer)\n",
        "                    mask_linear_norm = torch.mul(mask_linear_norm, complemantary_aggregated_mask_values)\n",
        "                    mask_values = self.sparsemax(mask_linear_norm)\n",
        "                    complemantary_aggregated_mask_values = torch.mul(complemantary_aggregated_mask_values, self.relaxation_factor - mask_values)\n",
        "                    total_entropy = torch.add(total_entropy, torch.mean(torch.sum(-mask_values * torch.log(mask_values + self.epsilon), axis=1)) / (self.num_decision_steps - 1))\n",
        "                    masked_features = torch.mul(mask_values, features)\n",
        "\n",
        "        return output_aggregated, total_entropy\n",
        "\n",
        "    def classify(self, output_logits):\n",
        "        logits = self.final_classifier_layer(output_logits)\n",
        "        predictions = F.softmax(logits, dim=1)\n",
        "        return logits, predictions\n",
        "\n",
        "\n"
      ],
      "metadata": {
        "id": "5D_9s_WRT1PX"
      },
      "execution_count": 16,
      "outputs": []
    },
    {
      "cell_type": "code",
      "source": [
        "device = torch.device(\"cuda\" if torch.cuda.is_available() else \"cpu\")"
      ],
      "metadata": {
        "id": "snUEzSMJT-Gm"
      },
      "execution_count": 17,
      "outputs": []
    },
    {
      "cell_type": "code",
      "source": [
        "# Data Preparation\n",
        "X_train_tensor = torch.tensor(X_train, dtype=torch.float32)\n",
        "y_train_tensor = torch.tensor(y_train, dtype=torch.long)\n",
        "X_test_tensor = torch.tensor(X_test, dtype=torch.float32)\n",
        "y_test_tensor = torch.tensor(y_test, dtype=torch.long)\n",
        "\n",
        "train_dataset = TensorDataset(X_train_tensor, y_train_tensor)\n",
        "train_loader = DataLoader(train_dataset, batch_size=64, shuffle=True)\n",
        "\n",
        "num_features = X_train_tensor.shape[1]\n",
        "model = TabNetModel(num_features=num_features, num_classes=2)\n",
        "#model.load_state_dict(torch.load(\"/content/drive/MyDrive/NF-BoT-IoT-V2/bot_iot_pretrain.pt\"))\n",
        "model = model.to(device)\n",
        "\n",
        "for name, param in model.named_parameters():\n",
        "    if 'U' in name or 'V' in name:\n",
        "        param.requires_grad = True\n",
        "    else:\n",
        "        param.requires_grad = False\n",
        "\n",
        "optimizer = Adam(filter(lambda p: p.requires_grad, model.parameters()), lr=0.02)\n",
        "loss_function = torch.nn.CrossEntropyLoss()\n",
        "\n",
        "def train_model(model, train_loader, epochs=10):\n",
        "    for epoch in range(epochs):\n",
        "        model.train()\n",
        "        total_loss = 0\n",
        "        for X_batch, y_batch in train_loader:\n",
        "            X_batch = X_batch.to(device)\n",
        "            y_batch = y_batch.to(device)\n",
        "            optimizer.zero_grad()\n",
        "            output, _ = model.encoder(X_batch)\n",
        "            loss = loss_function(model.classify(output)[0], y_batch)\n",
        "            loss.backward()\n",
        "            optimizer.step()\n",
        "            total_loss += loss.item()\n",
        "        print(f\"Epoch {epoch+1}, Loss: {total_loss / len(train_loader)}\")\n",
        "\n",
        "train_model(model, train_loader)"
      ],
      "metadata": {
        "colab": {
          "base_uri": "https://localhost:8080/"
        },
        "id": "86orCH2ET_Xi",
        "outputId": "62ebb240-8717-42c7-9097-d8e645d70239"
      },
      "execution_count": 18,
      "outputs": [
        {
          "output_type": "stream",
          "name": "stdout",
          "text": [
            "Epoch 1, Loss: 0.08310093955473281\n",
            "Epoch 2, Loss: 0.01829865805473159\n",
            "Epoch 3, Loss: 0.012444034882081205\n",
            "Epoch 4, Loss: 0.00780427937791439\n",
            "Epoch 5, Loss: 0.010573195577346164\n",
            "Epoch 6, Loss: 0.008407846624779829\n",
            "Epoch 7, Loss: 0.006315473280679459\n",
            "Epoch 8, Loss: 0.0070810679431882175\n",
            "Epoch 9, Loss: 0.0075481966651507705\n",
            "Epoch 10, Loss: 0.0066144005232810586\n"
          ]
        }
      ]
    },
    {
      "cell_type": "code",
      "source": [
        "\n",
        "from sklearn.metrics import accuracy_score, f1_score, precision_recall_curve, average_precision_score\n",
        "import matplotlib.pyplot as plt\n",
        "\n",
        "def evaluate_model(model, X_test_tensor, y_test_tensor):\n",
        "  model.eval()\n",
        "  with torch.no_grad():\n",
        "    X_test_batch = X_test_tensor.to(device)\n",
        "    y_test_batch = y_test_tensor.to(device)\n",
        "    output, _ = model.encoder(X_test_batch)\n",
        "    logits, predictions = model.classify(output)\n",
        "    accuracy = accuracy_score(y_test_batch.cpu(), predictions.argmax(dim=1).cpu())\n",
        "    f1 = f1_score(y_test_batch.cpu(), predictions.argmax(dim=1).cpu(), average='binary')\n",
        "    precision, recall, _ = precision_recall_curve(y_test_batch.cpu(), predictions[:, 1].cpu())\n",
        "    average_precision = average_precision_score(y_test_batch.cpu(), predictions[:, 1].cpu())\n",
        "\n",
        "    print(\"Accuracy:\", accuracy)\n",
        "    print(\"F1 Score:\", f1)\n",
        "    print(\"Average Precision:\", average_precision)\n",
        "    plt.plot(recall, precision)\n",
        "    plt.xlabel('Recall')\n",
        "    plt.ylabel('Precision')\n",
        "    plt.title('Precision-Recall Curve')\n",
        "    plt.show()\n",
        "\n",
        "  return accuracy, f1, average_precision\n",
        "\n",
        "# Evaluate the model\n",
        "accuracy, f1, average_precision = evaluate_model(model, X_test_tensor, y_test_tensor)"
      ],
      "metadata": {
        "colab": {
          "base_uri": "https://localhost:8080/",
          "height": 526
        },
        "id": "9HxYoB9IUEga",
        "outputId": "cfec59e5-b79e-443d-f95f-cff1a4243e61"
      },
      "execution_count": 19,
      "outputs": [
        {
          "output_type": "stream",
          "name": "stdout",
          "text": [
            "Accuracy: 0.9967126890203813\n",
            "F1 Score: 0.9983498349834984\n",
            "Average Precision: 0.997736845944357\n"
          ]
        },
        {
          "output_type": "display_data",
          "data": {
            "text/plain": [
              "<Figure size 640x480 with 1 Axes>"
            ],
            "image/png": "[encoded data removed]"
          },
          "metadata": {}
        }
      ]
    },
    {
      "cell_type": "code",
      "source": [
        "torch.save(model.state_dict(), \"/content/drive/MyDrive/TabLoRA_pretrained_models/tabnet_bot_iot_v2_rfe.pt\")"
      ],
      "metadata": {
        "id": "Rlw9opphWJ_R"
      },
      "execution_count": 20,
      "outputs": []
    },
    {
      "cell_type": "code",
      "source": [],
      "metadata": {
        "id": "PV0yAor0N-In"
      },
      "execution_count": null,
      "outputs": []
    },
    {
      "cell_type": "code",
      "source": [],
      "metadata": {
        "id": "S4xSSsn9OSkK"
      },
      "execution_count": null,
      "outputs": []
    }
  ]
}